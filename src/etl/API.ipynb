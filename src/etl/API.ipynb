{
 "cells": [
  {
   "cell_type": "code",
   "execution_count": 3,
   "metadata": {},
   "outputs": [],
   "source": [
    "import csv\n",
    "import requests\n",
    "import pandas as pd\n",
    "from io import StringIO"
   ]
  },
  {
   "cell_type": "code",
   "execution_count": 4,
   "metadata": {},
   "outputs": [],
   "source": [
    "def api_request(url:str):\n",
    "    response = requests.get(url)\n",
    "    if response.status_code == 200:\n",
    "        # Cargar los datos JSON en un diccionario de Python\n",
    "        csv_data = response.text\n",
    "        csv_file = StringIO(csv_data)\n",
    "        csv_reader = csv.DictReader(csv_file)\n",
    "        data_list = [row for row in csv_reader]\n",
    "\n",
    "        # Ahora puedes trabajar con el diccionario \"data\"\n",
    "        # Por ejemplo, imprimir el diccionario completo\n",
    "        return data_list\n",
    "    else:\n",
    "        # Si la solicitud no fue exitosa, imprimir el código de estado\n",
    "       return \"Error a\""
   ]
  },
  {
   "cell_type": "code",
   "execution_count": null,
   "metadata": {},
   "outputs": [],
   "source": []
  }
 ],
 "metadata": {
  "kernelspec": {
   "display_name": ".PI_DA",
   "language": "python",
   "name": "python3"
  },
  "language_info": {
   "codemirror_mode": {
    "name": "ipython",
    "version": 3
   },
   "file_extension": ".py",
   "mimetype": "text/x-python",
   "name": "python",
   "nbconvert_exporter": "python",
   "pygments_lexer": "ipython3",
   "version": "3.11.5"
  }
 },
 "nbformat": 4,
 "nbformat_minor": 2
}
