{
 "cells": [
  {
   "cell_type": "code",
   "execution_count": null,
   "metadata": {},
   "outputs": [],
   "source": [
    "import csv\n",
    "import requests\n",
    "import pandas as pd\n",
    "import io"
   ]
  },
  {
   "cell_type": "code",
   "execution_count": null,
   "metadata": {},
   "outputs": [],
   "source": [
    "def api_request(url:str):\n",
    "    response = requests.get(url)\n",
    "    if response.status_code == 200:\n",
    "        # Cargar los datos JSON en un diccionario de Python\n",
    "        csv_data = response.text\n",
    "        csv_file = StringIO(csv_data)\n",
    "        csv_reader = csv.DictReader(csv_file)\n",
    "        data_list = [row for row in csv_reader]\n",
    "\n",
    "        # Ahora puedes trabajar con el diccionario \"data\"\n",
    "        # Por ejemplo, imprimir el diccionario completo\n",
    "        return data_list\n",
    "    else:\n",
    "        # Si la solicitud no fue exitosa, imprimir el código de estado\n",
    "       return \"Error a\""
   ]
  }
 ],
 "metadata": {
  "language_info": {
   "name": "python"
  }
 },
 "nbformat": 4,
 "nbformat_minor": 2
}
